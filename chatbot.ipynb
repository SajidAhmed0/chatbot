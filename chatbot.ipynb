{
 "cells": [
  {
   "cell_type": "code",
   "execution_count": 1,
   "metadata": {},
   "outputs": [
    {
     "data": {
      "text/plain": [
       "True"
      ]
     },
     "execution_count": 1,
     "metadata": {},
     "output_type": "execute_result"
    }
   ],
   "source": [
    "import os\n",
    "from dotenv import load_dotenv\n",
    "\n",
    "load_dotenv()"
   ]
  },
  {
   "cell_type": "code",
   "execution_count": 13,
   "metadata": {},
   "outputs": [],
   "source": [
    "from langchain import HuggingFaceHub\n",
    "llm_huggingface = HuggingFaceHub(repo_id=\"google/flan-t5-large\", model_kwargs={\"temperature\":0.6, \"max_length\":64})"
   ]
  },
  {
   "cell_type": "markdown",
   "metadata": {},
   "source": [
    "temperature value --> how creative  we want  our model to be\n",
    "\n",
    "0 --> temperature it means model is very safe it is not taking any bets.\n",
    "\n",
    "1 --> it  will take risk it might generate wrong output ut it is very creative."
   ]
  },
  {
   "cell_type": "code",
   "execution_count": 14,
   "metadata": {},
   "outputs": [
    {
     "name": "stdout",
     "output_type": "stream",
     "text": [
      "Sri Lanka is a country in the Indian Ocean. It is located in the southern part of the Indian Ocean, about 340 km from the coast of the Indian Ocean. The country is a member of the Asian Union, and is a member of the Pacific Rim. The country is a member\n"
     ]
    }
   ],
   "source": [
    "text = \"Write an essay about Sri Lanka\"\n",
    "\n",
    "print(llm_huggingface.predict(text))"
   ]
  },
  {
   "cell_type": "code",
   "execution_count": 15,
   "metadata": {},
   "outputs": [],
   "source": [
    "import streamlit as st\n",
    "from langchain.schema import (SystemMessage, HumanMessage, AIMessage)"
   ]
  },
  {
   "cell_type": "code",
   "execution_count": 35,
   "metadata": {},
   "outputs": [
    {
     "name": "stdout",
     "output_type": "stream",
     "text": [
      "Overwriting app.py\n"
     ]
    }
   ],
   "source": [
    "%%writefile app.py\n",
    "\n",
    "import os\n",
    "from dotenv import load_dotenv\n",
    "\n",
    "load_dotenv()\n",
    "\n",
    "from langchain import HuggingFaceHub\n",
    "llm_huggingface = HuggingFaceHub(repo_id=\"google/flan-t5-large\", model_kwargs={\"temperature\":0, \"max_length\":60})\n",
    "\n",
    "import streamlit as st\n",
    "from langchain.schema import (SystemMessage, HumanMessage, AIMessage)\n",
    "\n",
    "def init_page() -> None:\n",
    "    st.set_page_config(\n",
    "        page_title=\"Chat Bot\"\n",
    "    )\n",
    "    st.header(\"Chat Bot\")\n",
    "    st.sidebar.title(\"Optoins\")\n",
    "\n",
    "def init_messages() -> None:\n",
    "    clear_button = st.sidebar.button(\"Clear Conversation\", key=\"Clear\")\n",
    "    if clear_button or \"messages\" not in st.session_state:\n",
    "        st.session_state.messages = [\n",
    "            SystemMessage(\n",
    "                content = \"you are a helful AI assistant. Reply your answer in markdown format.\"   \n",
    "            )\n",
    "        ]\n",
    "\n",
    "def get_answer(messages) -> str:\n",
    "    response = llm_huggingface.predict(messages)\n",
    "    return response\n",
    "\n",
    "def main() -> None:\n",
    "    init_page()\n",
    "    #creating model\n",
    "    init_messages() \n",
    "\n",
    "    if user_input := st.chat_input(\"Input your question!\"):\n",
    "        st.session_state.messages.append(HumanMessage(content=user_input))\n",
    "        with st.spinner(\"Bot is typing ...\"):\n",
    "            answer = get_answer(user_input)\n",
    "            print(answer)\n",
    "        st.session_state.messages.append(AIMessage(content=answer))\n",
    "\n",
    "\n",
    "    messages = st.session_state.get(\"messages\", [])\n",
    "    for message in messages:\n",
    "        if isinstance(message, AIMessage):\n",
    "            with st.chat_message(\"assistant\"):\n",
    "                st.markdown(message.content)\n",
    "        elif isinstance(message, HumanMessage):\n",
    "            with st.chat_message(\"user\"):\n",
    "                st.markdown(message.content)\n",
    "\n",
    "if __name__ == \"__main__\":\n",
    "    main()\n",
    "\n"
   ]
  },
  {
   "cell_type": "markdown",
   "metadata": {},
   "source": [
    "!streamlit run app.py & npx localtunnel --port 8502"
   ]
  },
  {
   "cell_type": "code",
   "execution_count": null,
   "metadata": {},
   "outputs": [],
   "source": []
  }
 ],
 "metadata": {
  "kernelspec": {
   "display_name": "Python 3",
   "language": "python",
   "name": "python3"
  },
  "language_info": {
   "codemirror_mode": {
    "name": "ipython",
    "version": 3
   },
   "file_extension": ".py",
   "mimetype": "text/x-python",
   "name": "python",
   "nbconvert_exporter": "python",
   "pygments_lexer": "ipython3",
   "version": "3.9.0"
  }
 },
 "nbformat": 4,
 "nbformat_minor": 2
}
